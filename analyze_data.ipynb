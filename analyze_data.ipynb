{
 "cells": [
  {
   "cell_type": "markdown",
   "id": "32453a16-f639-477e-b487-0acafad1e643",
   "metadata": {
    "tags": []
   },
   "source": [
    "# Analyze Data"
   ]
  },
  {
   "cell_type": "code",
   "execution_count": null,
   "id": "b3dd76e5-4837-4a31-9263-37f92cdd1963",
   "metadata": {
    "tags": [],
    "vscode": {
     "languageId": "r"
    }
   },
   "outputs": [],
   "source": [
    "devtools::install_version(\"ggpubr\", version = \"0.5.0\", upgrade = \"never\", dependencies = \"Imports\")\n",
    "#if (!requireNamespace(\"tidyr\")) {\n",
    "#    install.packages(\"tidyr\")\n",
    "# install.packages(\"ggpubr\")\n",
    "#}\n",
    "#devtools::install.version(\"tidyr\", version = \"1.3.0\")"
   ]
  },
  {
   "cell_type": "code",
   "execution_count": null,
   "id": "98dacc3e-caa9-4c14-a024-ce8bff6a3899",
   "metadata": {
    "tags": [],
    "vscode": {
     "languageId": "r"
    }
   },
   "outputs": [],
   "source": [
    "if (!requireNamespace(\"ggfortify\")) {\n",
    "    install.packages(\"ggfortify\")\n",
    "}\n",
    "if(!requireNamespace(\"labelled\")) {\n",
    "  install.packages(\"labelled\")\n",
    "}\n",
    "if(!requireNamespace(\"gtsummary\")) {\n",
    "  install.packages(\"gtsummary\")\n",
    "}"
   ]
  },
  {
   "cell_type": "code",
   "execution_count": null,
   "id": "9c466e92-b410-4ca7-bf49-c070163c46f8",
   "metadata": {
    "tags": [],
    "vscode": {
     "languageId": "r"
    }
   },
   "outputs": [],
   "source": [
    "library(tidyr)\n",
    "library(arrow, warn.conflicts = FALSE)\n",
    "library(dplyr, warn.conflicts = FALSE)\n",
    "library(ggplot2)\n",
    "library(janitor)\n",
    "library(broom)\n",
    "library(emmeans)\n",
    "library(scales)\n",
    "library(survminer)\n",
    "library(survival)\n",
    "library(ggfortify)\n",
    "library(gtools)\n",
    "library(MASS, warn.conflicts = FALSE)\n",
    "library(xtable)\n",
    "library(bit64, warn.conflicts = FALSE)\n",
    "library(table1)\n",
    "library(patchwork)\n",
    "library(labelled)\n",
    "library(gtsummary)\n",
    "library(gt)"
   ]
  },
  {
   "cell_type": "code",
   "execution_count": null,
   "id": "e8490f5f-1914-429e-8dcd-1ebe1dfb6252",
   "metadata": {
    "tags": [],
    "vscode": {
     "languageId": "r"
    }
   },
   "outputs": [],
   "source": [
    "source(here::here(\"R\", \"theme_truveta.r\"))"
   ]
  },
  {
   "cell_type": "code",
   "execution_count": null,
   "id": "808c9910-0646-411f-ae74-71ed09d3ee0a",
   "metadata": {
    "tags": [],
    "vscode": {
     "languageId": "r"
    }
   },
   "outputs": [],
   "source": [
    "initialize_theme_truveta()"
   ]
  },
  {
   "cell_type": "code",
   "execution_count": null,
   "id": "14423e28-31ba-47f8-9dc5-2b9230e31e63",
   "metadata": {
    "tags": [],
    "vscode": {
     "languageId": "r"
    }
   },
   "outputs": [],
   "source": [
    "results_dir <- here::here(\"results\")\n",
    "data_dir <- here::here(\"data\")\n",
    "dir.create(data_dir, recursive = TRUE, showWarnings = FALSE)"
   ]
  },
  {
   "cell_type": "code",
   "execution_count": null,
   "id": "5f542310-434b-424f-9e30-b764a4102291",
   "metadata": {
    "tags": [],
    "vscode": {
     "languageId": "r"
    }
   },
   "outputs": [],
   "source": [
    "write_as_xtable <- function(table1, filepath, type = 'latex', coerce_to_df = TRUE, ...) {\n",
    "  if(coerce_to_df) {\n",
    "    table1 <- as.data.frame(table1)\n",
    "  } \n",
    "\n",
    "  rownames(table1) <- NULL\n",
    "\n",
    "  xtable::xtable(table1, ...) |>\n",
    "    xtable::print.xtable(\n",
    "      type = type, \n",
    "      file = filepath,\n",
    "      include.rownames = FALSE,\n",
    "      comment = FALSE,\n",
    "      table.placement = '!htbp',\n",
    "      format.args = list(big.mark = ',')\n",
    "    )\n",
    "\n",
    "  return(filepath)\n",
    "}"
   ]
  },
  {
   "cell_type": "markdown",
   "id": "bde3233b-d616-4172-afc7-9b56ce391518",
   "metadata": {},
   "source": [
    "## Load + Prepare Data"
   ]
  },
  {
   "cell_type": "code",
   "execution_count": null,
   "id": "43c89bf3-6aa2-4eee-8a46-56b31b079840",
   "metadata": {
    "tags": [],
    "vscode": {
     "languageId": "r"
    }
   },
   "outputs": [],
   "source": [
    "df <- arrow::read_parquet(file.path(data_dir, \"feature_table.parquet\"))\n",
    "#df |> head(5)"
   ]
  },
  {
   "cell_type": "code",
   "execution_count": null,
   "id": "692de6e8-8d60-4184-adb0-2d65c2b77631",
   "metadata": {
    "tags": [],
    "vscode": {
     "languageId": "r"
    }
   },
   "outputs": [],
   "source": [
    "nrow(df)\n",
    "nrow(df[!is.na(df$PersonId),])\n",
    "sum(is.na(df$PersonId))"
   ]
  },
  {
   "cell_type": "code",
   "execution_count": null,
   "id": "233e4c93-75d8-45b4-8748-3e3429e4284f",
   "metadata": {
    "tags": [],
    "vscode": {
     "languageId": "r"
    }
   },
   "outputs": [],
   "source": [
    "# Remove invalid last encounter start date time (assume these people had no encounters after T0)\n",
    "sum(is.na(df$LastEncounterStartDateTime))\n",
    "\n",
    "# df <- \n",
    "#   df |>\n",
    "#   filter(!is.na(LastEncounterStartDateTime) & Exclude_censoring != 1)"
   ]
  },
  {
   "cell_type": "code",
   "execution_count": null,
   "id": "411da2df-31c6-4e68-9437-a2197bb2b943",
   "metadata": {
    "tags": [],
    "vscode": {
     "languageId": "r"
    }
   },
   "outputs": [],
   "source": [
    "#Make stuff pretty\n",
    "# Factor categorical variables\n",
    "df <- df |> \n",
    "  mutate(\n",
    "    across(\n",
    "      c(contains(c('conditions','disability','prexist_cardiac_exclusion','chronic_diabetes_conditions'))), \n",
    "      ~ factor(.x, levels = c(0, 1), labels = c('No', 'Yes'))\n",
    "    ),\n",
    "    # Replace Black or African American with Black*\n",
    "    Race = dplyr::if_else(as.character(Race) %in% \"Black or African American\", \"Black\", as.character(Race))\n",
    "  )\n",
    "black_footnote <- \"*Black refers to Black or African American Individuals\"\n",
    "\n",
    "\n",
    "## Regroup age groups to be more clinically relevant for pregnancy\n",
    "df <- df |>\n",
    "  mutate(\n",
    "    AgeGroup = \n",
    "      dplyr::case_when(\n",
    "        AgeInYears < 18 ~ \"0-17\",\n",
    "        AgeInYears >=18 & AgeInYears < 25 ~ \"18-24\",\n",
    "        AgeInYears >= 25 & AgeInYears < 35 ~ \"25-34\",\n",
    "        AgeInYears >= 35 & AgeInYears < 45 ~ \"35-44\",\n",
    "        AgeInYears >= 45 ~ \"45+\"\n",
    "      ),\n",
    "    AgeGroup = factor(AgeGroup, levels =c(\"0-17\", \"18-24\", \"25-34\", \"35-44\",\"45+\"))\n",
    "  )\n",
    "\n",
    "df <- \n",
    "  df |> \n",
    "  mutate(\n",
    "    preeclampsia_eclampsia_pretty = \n",
    "      factor(\n",
    "        Eclampsia_binary, \n",
    "        levels = c(0, 1), \n",
    "        labels = c(\"No Preeclampsia/Eclampsia\", \"Preeclampsia/Eclampsia\")\n",
    "      ),\n",
    "    disabled2 = factor(disabled, levels = c(0,1), labels = c(\"No\", \"Yes\")),\n",
    "    Advanced = factor(Advanced, levels = c(0,1), labels = c(\"No\", \"Yes\")),\n",
    "    Teen = factor(Teen, levels = c(0,1), labels = c(\"No\", \"Yes\")),\n",
    "       CountHBP = factor(CountHBP, levels = c(0,1), labels = c(\"No\", \"Yes\")),\n",
    "      heart_failure_pretty =\n",
    "          factor(\n",
    "              event_HF,\n",
    "              levels = c(0,1),\n",
    "              labels = c(\"No Heart Failure\", \"Heart Failure\")\n",
    "              )\n",
    "    \n",
    "  )"
   ]
  },
  {
   "cell_type": "code",
   "execution_count": null,
   "id": "938955b2-d4e5-4f47-9c48-961986d93744",
   "metadata": {
    "tags": [],
    "vscode": {
     "languageId": "r"
    }
   },
   "outputs": [],
   "source": [
    "# Relevel, lump categories with small numbers (may eventually replace with a more thoughtful grouping, but this is fine for now)\n",
    "df_surv <- \n",
    "  df |>\n",
    "  mutate(\n",
    "    race = forcats::fct_lump_prop(Race, .05),\n",
    "    race = ifelse(race == \"Other\", \"Other Race\", as.character(race)),           \n",
    "    ethnicity = forcats::fct_lump_prop(Ethnicity, .05),\n",
    "    ethnicity = ifelse(ethnicity == \"Other\", \"Not Hispanic or Latino\", as.character(ethnicity)), \n",
    "    race = forcats::fct_relevel(race, c(\"Black\", \"Asian\", \"White\", \"Other Race\")),\n",
    "    ethnicity = forcats::fct_relevel(ethnicity, c(\"Hispanic or Latino\",\"Not Hispanic or Latino\"))\n",
    "  )\n",
    "\n",
    "table(df_surv$race)\n",
    "table(df_surv$ethnicity)\n",
    "table(df_surv$AgeGroup)"
   ]
  },
  {
   "cell_type": "code",
   "execution_count": null,
   "id": "43bfef7e-8381-4394-a1ed-38bda45d6fb9",
   "metadata": {
    "tags": [],
    "vscode": {
     "languageId": "r"
    }
   },
   "outputs": [],
   "source": [
    "# Create event and time indicators for survival analysis\n",
    "df_surv <- \n",
    "  df_surv |> \n",
    "  mutate(\n",
    "    across(c(contains('DateTime'), 'T0'),~lubridate::as_datetime(.x)),\n",
    "    first_event_hf = pmin(ConditionDateTime_HF, LastEncounterStartDateTime, na.rm = TRUE),\n",
    "    event_hf = tidyr::replace_na((first_event_hf == ConditionDateTime_HF)*1,0),\n",
    "    time_hf = as.integer(difftime(first_event_hf, T0, units = \"days\")),\n",
    "    time90_hf = ifelse(time_hf > 90, 90, time_hf),\n",
    "    event90_hf = ifelse(time_hf > 90, 0, event_hf),\n",
    "\n",
    "  )\n",
    "\n",
    "df_surv <- \n",
    "  df_surv |> \n",
    "  mutate(\n",
    "       event_hfx = factor(event_hf, levels = c(0,1), labels = c(\"No\", \"Yes\")),\n",
    "  )"
   ]
  },
  {
   "cell_type": "markdown",
   "id": "8291adbe-d546-4192-bacb-2c0db37f3cab",
   "metadata": {},
   "source": [
    "# Table 1"
   ]
  },
  {
   "cell_type": "code",
   "execution_count": null,
   "id": "cc37cf95-4deb-414e-a89e-d86c962298f8",
   "metadata": {
    "tags": [],
    "vscode": {
     "languageId": "r"
    }
   },
   "outputs": [],
   "source": [
    "df_tab1 <- \n",
    "  df_surv |>\n",
    "  dplyr::select(\n",
    "    time_hf,\n",
    "    event_hfx,\n",
    "    preeclampsia_eclampsia_pretty,\n",
    "    race,\n",
    "    ethnicity,\n",
    "    AgeGroup,\n",
    "    bleeding_conditions,\n",
    "    chronic_diabetes_conditions,\n",
    "    gest_diabetes_conditions,\n",
    "    CountHBP,\n",
    "    prexist_cardiac_exclusion,\n",
    "    bmiabove40_conditions,\n",
    "    sud_conditions,\n",
    "    disabled2,\n",
    "    oci\n",
    "  )\n",
    "\n",
    "table1::label(df_tab1$time_hf) <- 'Time till Heart Failure'\n",
    "table1::label(df_tab1$event_hfx) <- 'Heart Failure Event'\n",
    "table1::label(df_tab1$preeclampsia_eclampsia_pretty) <- 'Preeclampsia/Eclampsia'\n",
    "table1::label(df_tab1$race) <- 'Race'\n",
    "table1::label(df_tab1$ethnicity) <- 'Ethnicity'\n",
    "table1::label(df_tab1$AgeGroup) <- 'Age Group'\n",
    "table1::label(df_tab1$bleeding_conditions) <- 'Bleeding Conditions'\n",
    "table1::label(df_tab1$chronic_diabetes_conditions) <- 'Pregestational Diabetes'\n",
    "table1::label(df_tab1$gest_diabetes_conditions) <- 'Gestational Diabetes'\n",
    "table1::label(df_tab1$CountHBP) <- 'Pregestational Hypertension'\n",
    "table1::label(df_tab1$prexist_cardiac_exclusion) <- 'Other Preexisting Cardiac Conditions'\n",
    "table1::label(df_tab1$bmiabove40_conditions) <- 'BMI \\U2265 40'\n",
    "table1::label(df_tab1$sud_conditions) <- 'Substance Use Disorder'\n",
    "table1::label(df_tab1$disabled2) <- 'Disability'\n",
    "table1::label(df_tab1$oci) <- 'Obstetric Comorbidity Index'\n",
    "\n",
    "tab1 <- \n",
    "  table1::table1(\n",
    "    ~ event_hfx +\n",
    "      race + \n",
    "      ethnicity + \n",
    "      AgeGroup + \n",
    "      bleeding_conditions +\n",
    "      chronic_diabetes_conditions + \n",
    "      gest_diabetes_conditions + \n",
    "      CountHBP + \n",
    "      prexist_cardiac_exclusion +\n",
    "      bmiabove40_conditions + \n",
    "      sud_conditions + \n",
    "      disabled2 + \n",
    "      oci | preeclampsia_eclampsia_pretty,\n",
    "    data = df_tab1,\n",
    "    big.mark = ','\n",
    "  ) \n",
    "\n",
    "\n",
    "tab1_df <- as.data.frame(tab1, make.names = FALSE)\n",
    "\n",
    "tab1_df"
   ]
  },
  {
   "cell_type": "code",
   "execution_count": null,
   "id": "8c2e06c9-4295-4941-a733-692e38ae729d",
   "metadata": {
    "tags": [],
    "vscode": {
     "languageId": "r"
    }
   },
   "outputs": [],
   "source": [
    "add.to.row <- list()\n",
    "add.to.row$pos <- list()\n",
    "add.to.row$pos[[1]] <- c(0)\n",
    "add.to.row$command <- \n",
    "  paste0(\n",
    "    \"\\\\hline \\n\",\n",
    "    \"\\\\endfirsthead \\n\",\n",
    "    \"\\\\multicolumn{4}{p{\\\\textwidth}}{{ \\\\bfseries \\\\tablename\\ \\\\thetable{} -- continued from previous page}} \\\\ \\n\",\n",
    "    \"\\\\hline Feature & No Preeclampsia/Eclampsia & Preeclampsia/Eclampsia & Overall \\\\\\\\ \\\\hline \\n\",\n",
    "    \"\\\\endhead \\n\",\n",
    "    \"\\\\hline \\\\multicolumn{4}{p{\\\\textwidth}}{{Continued on next page}} \\\\\\\\ \\\\hline \\n\",\n",
    "    \"\\\\endfoot \\n\",\n",
    "    \"\\\\hline \\n\",\n",
    "    \"\\\\endlastfoot \\n\"\n",
    "  )\n",
    "\n",
    "#align <- c('', \"p{0.2\\\\textwidth}\", \"p{0.2\\\\textwidth}\", \"p{0.6\\\\textwidth}\")\n",
    "\n",
    "caption <- \n",
    "  paste0(\n",
    "    'Demographic characteristics of people that delivered at or after January 1, 2018 and their comorbidities. '\n",
    "  )\n",
    "\n",
    "label <- 'tab:table_1'\n",
    "\n",
    "xtable::print.xtable(\n",
    "  xtable::xtable(\n",
    "    tab1_df,\n",
    "    label = label,\n",
    "    caption = caption,\n",
    "    floating = FALSE#,\n",
    "    #align = align\n",
    "  ),\n",
    "  type = 'latex', \n",
    "  file = file.path(results_dir, \"table_1.tex\"), \n",
    "  include.rownames = FALSE,\n",
    "  comment = FALSE,\n",
    "  timestamp = NULL,\n",
    "  floating = FALSE,\n",
    "  add.to.row = add.to.row,\n",
    "  tabular.environment = \"longtable\",\n",
    "  hline.after = FALSE,\n",
    "  format.args = list(digits = 3, big.mark = \",\")\n",
    ")"
   ]
  },
  {
   "cell_type": "code",
   "execution_count": null,
   "id": "86988c7f-de75-4344-9d14-03ce68e18fa7",
   "metadata": {
    "tags": [],
    "vscode": {
     "languageId": "r"
    }
   },
   "outputs": [],
   "source": [
    "add.to.row <- list()\n",
    "add.to.row$pos <- list()\n",
    "add.to.row$pos[[1]] <- c(0)\n",
    "add.to.row$command <- \n",
    "  paste0(\n",
    "    \"\\\\hline \\n\",\n",
    "    \"\\\\endfirsthead \\n\",\n",
    "    \"\\\\multicolumn{4}{p{\\\\textwidth}}{{ \\\\bfseries \\\\tablename\\ \\\\thetable{} -- continued from previous page}} \\\\ \\n\",\n",
    "    \"\\\\hline Feature & No Preeclampsia/Eclampsia & Preeclampsia/Eclampsia & Overall \\\\\\\\ \\\\hline \\n\",\n",
    "    \"\\\\endhead \\n\",\n",
    "    \"\\\\hline \\\\multicolumn{4}{p{\\\\textwidth}}{{Continued on next page}} \\\\\\\\ \\\\hline \\n\",\n",
    "    \"\\\\endfoot \\n\",\n",
    "    \"\\\\hline \\n\",\n",
    "    \"\\\\endlastfoot \\n\"\n",
    "  )\n",
    "\n",
    "#align <- c('', \"p{0.2\\\\textwidth}\", \"p{0.2\\\\textwidth}\", \"p{0.6\\\\textwidth}\")\n",
    "\n",
    "caption <- \n",
    "  paste0(\n",
    "    'Demographic characteristics of people that delivered at or after January 1, 2018 and their comorbidities. '\n",
    "  )\n",
    "\n",
    "label <- 'tab:table_1'\n",
    "\n",
    "xtable::print.xtable(\n",
    "  xtable::xtable(\n",
    "    tab1_df,\n",
    "    label = label,\n",
    "    caption = caption,\n",
    "    floating = FALSE#,\n",
    "    #align = align\n",
    "  ),\n",
    "  type = 'html', \n",
    "  file = file.path(results_dir, \"table_1.html\"), \n",
    "  include.rownames = FALSE,\n",
    "  comment = FALSE,\n",
    "  timestamp = NULL,\n",
    "  floating = FALSE,\n",
    "  add.to.row = add.to.row,\n",
    "  tabular.environment = \"longtable\",\n",
    "  hline.after = FALSE,\n",
    "  format.args = list(digits = 3, big.mark = \",\")\n",
    ")"
   ]
  },
  {
   "cell_type": "markdown",
   "id": "309abbaf-c5d6-40a2-a302-d2a125ac6cf8",
   "metadata": {
    "tags": []
   },
   "source": [
    "# Kaplan Meier Curves"
   ]
  },
  {
   "cell_type": "code",
   "execution_count": null,
   "id": "03ed2cee-6282-4ae8-976c-b4d14bef41b7",
   "metadata": {
    "tags": [],
    "vscode": {
     "languageId": "r"
    }
   },
   "outputs": [],
   "source": [
    "# Create plotting function\n",
    "custom_theme <- \\() {\n",
    "  theme_truveta() %+replace%\n",
    "    theme(\n",
    "      plot.title=element_text(hjust=0.5),\n",
    "      axis.title.x = element_text(hjust=0.5)\n",
    "    )\n",
    "}\n",
    "\n"
   ]
  },
  {
   "cell_type": "markdown",
   "id": "8783b68b-014d-4c80-ba70-e22a2f10f7fa",
   "metadata": {},
   "source": [
    "## Combined Figure 2"
   ]
  },
  {
   "cell_type": "code",
   "execution_count": null,
   "id": "158c4aa7-d297-49ad-81e0-15c7d403c26e",
   "metadata": {
    "tags": [],
    "vscode": {
     "languageId": "r"
    }
   },
   "outputs": [],
   "source": [
    "#survival plot for preeclampsia and HF all time\n",
    "j <- survival::survfit(survival::Surv(time_hf, event_hf) ~ preeclampsia_eclampsia_pretty, data = df_surv)\n",
    "\n",
    "#survival plot for preeclampsia and HF 90 days\n",
    "k <- survival::survfit(survival::Surv(time90_hf, event_hf) ~ preeclampsia_eclampsia_pretty, data = df_surv)\n",
    "\n",
    "choose <-  ggsurvplot(k,\n",
    "    data=df_surv, \n",
    "    conf.int = TRUE, \n",
    "    color = \"preeclampsia_eclampsia_pretty\", \n",
    "    palette = official_color_palette,\n",
    "    xlim = c(0, 90),\n",
    "    break.x.by = 30,\n",
    "    title = \"Time to Heart Failure\",\n",
    "    ylab = \"Proportion not Experiencing Heart Failure\",\n",
    "    xlab = \"Time Since Delivery (days)\",\n",
    "    ylim = c(.98,1), ggtheme = theme_truveta()\n",
    "  )\n",
    "\n",
    "choose2 <- ggsurvplot(\n",
    "    j,\n",
    "    data=df_surv, \n",
    "    conf.int = TRUE, \n",
    "    color = \"preeclampsia_eclampsia_pretty\", \n",
    "    palette = official_color_palette,\n",
    "      xscale=365.25,\n",
    "                     break.time.by = 365.25,\n",
    "    #xlim = c(0, 90),\n",
    "    #break.x.by = 30,\n",
    "    title = \"Time to Heart Failure\",\n",
    "    ylab = \"Proportion not Experiencing Heart Failure\",\n",
    "    xlab = \"Time Since Delivery (years)\",\n",
    "    ylim = c(.98,1), ggtheme = theme_truveta()\n",
    "  )\n",
    "\n",
    "\n",
    "splots <-list(choose, choose2)"
   ]
  },
  {
   "cell_type": "code",
   "execution_count": null,
   "id": "73478cff-485c-4e63-9b65-74d3d47d20fe",
   "metadata": {
    "tags": [],
    "vscode": {
     "languageId": "r"
    }
   },
   "outputs": [],
   "source": [
    "a <- choose$plot\n",
    "b <- choose2$plot"
   ]
  },
  {
   "cell_type": "code",
   "execution_count": null,
   "id": "bff9356b-ec5c-4f54-905d-5aeeb1aa406e",
   "metadata": {
    "tags": [],
    "vscode": {
     "languageId": "r"
    }
   },
   "outputs": [],
   "source": [
    "a / b"
   ]
  },
  {
   "cell_type": "code",
   "execution_count": null,
   "id": "e74fc74e-dbc2-4212-88d5-c52ae2807de0",
   "metadata": {
    "tags": [],
    "vscode": {
     "languageId": "r"
    }
   },
   "outputs": [],
   "source": [
    "cheese <- ggplot2::labs(\n",
    " title = NULL,\n",
    " subtitle = 'B. Survival Without Heart Failure within 90 Days of Delivery',\n",
    " x = 'Time Since Delivery (days)',\n",
    " y = stringr::str_wrap('Proportion not Experiencing Heart Failure', 30))\n",
    "\n",
    "a + cheese"
   ]
  },
  {
   "cell_type": "code",
   "execution_count": null,
   "id": "0d74583d-4af0-4469-95c9-8bb281ea2cb2",
   "metadata": {
    "tags": [],
    "vscode": {
     "languageId": "r"
    }
   },
   "outputs": [],
   "source": [
    "cheese2 <- ggplot2::labs(\n",
    " title = stringr::str_wrap('Time to Heart Failure After Delivery by Preeclampsia Status', 40),\n",
    " subtitle = 'A. Survival Without Heart Failure Occurrence Any Time After Delivery',\n",
    " x = 'Time Since Delivery (years)',\n",
    " y = stringr::str_wrap('Proportion not Experiencing Heart Failure', 30))\n",
    "\n",
    "b + cheese2"
   ]
  },
  {
   "cell_type": "code",
   "execution_count": null,
   "id": "7c80717c-5865-4b4e-b073-717c954d2bc0",
   "metadata": {
    "tags": [],
    "vscode": {
     "languageId": "r"
    }
   },
   "outputs": [],
   "source": [
    "res <- (b + cheese2) / (a + cheese)"
   ]
  },
  {
   "cell_type": "code",
   "execution_count": null,
   "id": "459fa218-71fe-489f-b79d-44b05c1d0865",
   "metadata": {
    "tags": [],
    "vscode": {
     "languageId": "r"
    }
   },
   "outputs": [],
   "source": [
    "ggsave(plot = res, device = \"png\", filename = file.path(results_dir, \"KM_Dual_Plot_Overall_98.png\"))"
   ]
  },
  {
   "cell_type": "markdown",
   "id": "b161a103-6218-453f-919d-1761e9bd8c59",
   "metadata": {},
   "source": [
    "## Combined Figure 3 by Race"
   ]
  },
  {
   "cell_type": "code",
   "execution_count": null,
   "id": "a1f0aa80-b297-4843-8bed-19d414c38584",
   "metadata": {
    "tags": [],
    "vscode": {
     "languageId": "r"
    }
   },
   "outputs": [],
   "source": [
    "# moving this block here because otherwise notebook won't run in order\n",
    "\n",
    "#Re-level variables in advance of the multivariate in order to get references correct\n",
    "df_surv2 <- \n",
    "  df_surv |>\n",
    "  mutate(\n",
    "    race = forcats::fct_relevel(race, c(\"White\", \"Black\", \"Asian\", \"Other Race\")),\n",
    "    Advanced = forcats::fct_relevel(Advanced, c(\"No\",\"Yes\")),\n",
    "    Teen = forcats::fct_relevel(Teen, c(\"No\",\"Yes\")),\n",
    "    ethnicity = forcats::fct_relevel(ethnicity, c(\"Not Hispanic or Latino\",\"Hispanic or Latino\"))\n",
    "  )\n"
   ]
  },
  {
   "cell_type": "code",
   "execution_count": null,
   "id": "6f6d342c-2f32-4106-b3ef-2ff1e80f9746",
   "metadata": {
    "tags": [],
    "vscode": {
     "languageId": "r"
    }
   },
   "outputs": [],
   "source": [
    "#survival plot for preeclampsia and HF all time\n",
    "m <- survival::survfit(survival::Surv(time_hf, event_hf) ~ preeclampsia_eclampsia_pretty + race, data = df_surv2)\n",
    "\n",
    "#survival plot for preeclampsia and HF 90 days\n",
    "mm <- survival::survfit(survival::Surv(time90_hf, event_hf) ~ preeclampsia_eclampsia_pretty + race, data = df_surv2)\n",
    "\n",
    "\n",
    "\n",
    "cheese3 <- ggplot2::labs(\n",
    "  title = stringr::str_wrap('Time to Heart Failure at or After Delivery by Preeclampsia Status and Race', 40),\n",
    "  subtitle = stringr::str_wrap('A. Survival Without Heart Failure Occurrence Any Time at or After Delivery', 40),\n",
    "  x = 'Time Since Delivery (years)',\n",
    "  y = stringr::str_wrap('Proportion not Experiencing Heart Failure', 30)\n",
    ")\n",
    "\n",
    "\n",
    "innie <- \n",
    "  ggsurvplot_facet(\n",
    "    m, \n",
    "    df_surv2, \n",
    "    facet.by = \"race\",\n",
    "    short.panel.labs=T ,  \n",
    "    ncol=5,          \n",
    "    conf.int = TRUE, \n",
    "    color = \"preeclampsia_eclampsia_pretty\",\n",
    "    palette = official_color_palette,\n",
    "    xscale=365.25,\n",
    "    break.time.by = 365.25,\n",
    "    title = \"Time to Heart Failure by Race\",\n",
    "    ylab = \"Proportion not Experiencing Heart Failure\",\n",
    "    xlab = \"Time Since Delivery (years)\",\n",
    "    ylim = c(.98,1),ggtheme = theme_truveta()  \n",
    "  )\n",
    "\n",
    "\n",
    "innie + cheese3 + facet_wrap(~forcats::fct_relevel(race,\"White\", \"Black\", \"Asian\", \"Other Race\"),ncol=5)"
   ]
  },
  {
   "cell_type": "code",
   "execution_count": null,
   "id": "331dc837-703f-418d-9cb0-10d863d19951",
   "metadata": {
    "tags": [],
    "vscode": {
     "languageId": "r"
    }
   },
   "outputs": [],
   "source": [
    "outtie <-  ggsurvplot_facet(\n",
    "  mm,\n",
    "  df_surv2, facet.by=\"race\", \n",
    "  short.panel.labs=T, \n",
    "  ncol=5,\n",
    "  conf.int = TRUE, \n",
    "  color = \"preeclampsia_eclampsia_pretty\", \n",
    "  palette = official_color_palette,\n",
    "  xlim = c(0, 90),\n",
    "  break.x.by = 30,\n",
    "  title = \"Time to Heart Failure by Race\",\n",
    "  ylab = \"Proportion not Experiencing Heart Failure\",\n",
    "  xlab = \"Time Since Delivery (days)\",\n",
    "  ylim = c(.98,1), ggtheme = theme_truveta()\n",
    ")\n",
    "\n",
    "\n",
    "outtie + cheese + facet_wrap(~forcats::fct_relevel(race,\"White\", \"Black\", \"Asian\", \"Other Race\"),ncol=5)"
   ]
  },
  {
   "cell_type": "code",
   "execution_count": null,
   "id": "5aac0e56-870c-4125-8661-5d1df8b7e20f",
   "metadata": {
    "tags": [],
    "vscode": {
     "languageId": "r"
    }
   },
   "outputs": [],
   "source": [
    "reserve <- (innie + cheese3 + facet_wrap(~forcats::fct_relevel(race,\"White\", \"Black\", \"Asian\", \"Other Race\"),ncol=5)) / (outtie + cheese + facet_wrap(~forcats::fct_relevel(race,\"White\", \"Black\", \"Asian\", \"Other Race\"),ncol=5))"
   ]
  },
  {
   "cell_type": "code",
   "execution_count": null,
   "id": "1845ae7a-351d-4d6e-b80d-254a66feb7a4",
   "metadata": {
    "tags": [],
    "vscode": {
     "languageId": "r"
    }
   },
   "outputs": [],
   "source": [
    "reserve"
   ]
  },
  {
   "cell_type": "code",
   "execution_count": null,
   "id": "0a9e0945-46f3-4afd-92dd-5ee16254ea79",
   "metadata": {
    "tags": [],
    "vscode": {
     "languageId": "r"
    }
   },
   "outputs": [],
   "source": [
    "ggsave(plot = reserve, device = \"png\", filename = file.path(results_dir, \"KM_Dual_Plot_By_Race_98.png\"))"
   ]
  },
  {
   "cell_type": "markdown",
   "id": "418a189c-a415-4bb9-a4db-4c9c2be838ce",
   "metadata": {
    "tags": []
   },
   "source": [
    "# Cox PH Models"
   ]
  },
  {
   "cell_type": "code",
   "execution_count": null,
   "id": "fa4f31f7-62d7-4a38-a001-cb977f7c9ad0",
   "metadata": {
    "tags": [],
    "vscode": {
     "languageId": "r"
    }
   },
   "outputs": [],
   "source": [
    "#Original model\n",
    "# No interactions\n",
    "original <- \n",
    "  survival::coxph(\n",
    "    survival::Surv(time_hf, event_hf) ~ \n",
    "    preeclampsia_eclampsia_pretty + \n",
    " race + \n",
    "      ethnicity + \n",
    "      AgeGroup + \n",
    "      bleeding_conditions +\n",
    "      chronic_diabetes_conditions + \n",
    "      gest_diabetes_conditions + \n",
    "     CountHBP + \n",
    "      prexist_cardiac_exclusion +\n",
    "     bmiabove40_conditions + \n",
    "      sud_conditions + \n",
    "      disabled2 + \n",
    "      oci, \n",
    "    data = df_surv2\n",
    "  )\n",
    "\n",
    "\n",
    "cox1 <- original |> broom::tidy(exp = TRUE, conf.int = TRUE) \n",
    "#export the results into a data frame to create the csv and tex files\n",
    "#HIV, gestational diabetes, lupus, and bleeding disorders do not appear to influence the relationship. not significant. continue testing"
   ]
  },
  {
   "cell_type": "code",
   "execution_count": null,
   "id": "9aa41556-9719-44cc-8a1b-441d7b9ff57a",
   "metadata": {
    "tags": [],
    "vscode": {
     "languageId": "r"
    }
   },
   "outputs": [],
   "source": [
    "cox1"
   ]
  },
  {
   "cell_type": "code",
   "execution_count": null,
   "id": "f5d2344f-f136-4c3b-ad2d-ab5a66925fa2",
   "metadata": {
    "tags": [],
    "vscode": {
     "languageId": "r"
    }
   },
   "outputs": [],
   "source": [
    "#Whew this works! Makes the last line unneeded from previous cell.\n",
    "#This turns the results into a gt table that can be saved as HTML, TEX, Word, etc.\n",
    "tab1 <-  \n",
    "  tbl_regression(original, exponentiate=TRUE) |> \n",
    "  as_gt()\n",
    "#could also use |> as_latex()"
   ]
  },
  {
   "cell_type": "markdown",
   "id": "a927eea9-bb13-4bed-bc9d-e8fe35c69864",
   "metadata": {
    "tags": []
   },
   "source": [
    "## fit model with original names to output regression table"
   ]
  },
  {
   "cell_type": "code",
   "execution_count": null,
   "id": "9bd325b2-7263-4338-be3d-1e30608614cc",
   "metadata": {
    "tags": [],
    "vscode": {
     "languageId": "r"
    }
   },
   "outputs": [],
   "source": [
    "library(lmtest)"
   ]
  },
  {
   "cell_type": "code",
   "execution_count": null,
   "id": "7ac822d1-4e71-4fa6-83fd-6ccb539533a8",
   "metadata": {
    "tags": [],
    "vscode": {
     "languageId": "r"
    }
   },
   "outputs": [],
   "source": [
    "#Redone model selection. Full is all variables and potential interactions\n",
    "full <- \n",
    "  survival::coxph(\n",
    "    survival::Surv(time_hf, event_hf) ~ \n",
    "    preeclampsia_eclampsia_pretty + \n",
    " race + \n",
    "      ethnicity + \n",
    "      AgeGroup + \n",
    "      bleeding_conditions +\n",
    "      chronic_diabetes_conditions + \n",
    "      gest_diabetes_conditions + \n",
    "     CountHBP + \n",
    "      prexist_cardiac_exclusion +\n",
    "     bmiabove40_conditions + \n",
    "      sud_conditions + \n",
    "      disabled2 + \n",
    "      oci +\n",
    "      \n",
    "      \n",
    "        preeclampsia_eclampsia_pretty*race + \n",
    "    chronic_diabetes_conditions*race + \n",
    "    gest_diabetes_conditions*race + \n",
    "      CountHBP*race +\n",
    "      bmiabove40_conditions*race + \n",
    "    sud_conditions*race + \n",
    "    disabled2*race + \n",
    "\n",
    "      preeclampsia_eclampsia_pretty*ethnicity + \n",
    "    preeclampsia_eclampsia_pretty*AgeGroup + \n",
    "      preeclampsia_eclampsia_pretty*CountHBP +\n",
    "    preeclampsia_eclampsia_pretty*bmiabove40_conditions + \n",
    "    preeclampsia_eclampsia_pretty*sud_conditions + \n",
    "    \n",
    "    preeclampsia_eclampsia_pretty*disabled2 + \n",
    "    CountHBP*chronic_diabetes_conditions       \n",
    "      \n",
    "      \n",
    "      \n",
    "      , \n",
    "    data = df_surv2\n",
    "  )\n",
    "summary(full)"
   ]
  },
  {
   "cell_type": "code",
   "execution_count": null,
   "id": "e340846c-4e91-48b3-9590-d58a1f6dec44",
   "metadata": {
    "tags": [],
    "vscode": {
     "languageId": "r"
    }
   },
   "outputs": [],
   "source": [
    "#reduced1 removes     preeclampsia_eclampsia_pretty*AgeGroup due to convergence issues.     CountHBP*chronic_diabetes_conditions   \n",
    "reduced1 <- \n",
    "  survival::coxph(\n",
    "    survival::Surv(time_hf, event_hf) ~ \n",
    "    preeclampsia_eclampsia_pretty + \n",
    " race + \n",
    "      ethnicity + \n",
    "      AgeGroup + \n",
    "      chronic_diabetes_conditions + \n",
    "      gest_diabetes_conditions + \n",
    "     CountHBP + \n",
    "      prexist_cardiac_exclusion +\n",
    "     bmiabove40_conditions + \n",
    "      sud_conditions + \n",
    "      disabled2 + \n",
    "      oci +\n",
    "\n",
    "        preeclampsia_eclampsia_pretty*race + \n",
    "    sud_conditions*race + \n",
    "    disabled2*race + \n",
    "\n",
    "    preeclampsia_eclampsia_pretty*sud_conditions + \n",
    "    preeclampsia_eclampsia_pretty*disabled2\n",
    "\n",
    "      ,\n",
    "    data = df_surv2\n",
    "  )\n",
    "summary(reduced1)"
   ]
  },
  {
   "cell_type": "code",
   "execution_count": null,
   "id": "34d6b606-7b37-4fe9-9dbc-dd9f15aaeb72",
   "metadata": {
    "tags": [],
    "vscode": {
     "languageId": "r"
    }
   },
   "outputs": [],
   "source": [
    "AIC(original, reduced1, full)\n",
    "#lowest AIC is reduced1"
   ]
  },
  {
   "cell_type": "code",
   "execution_count": null,
   "id": "588e5bf6-84cc-477b-89a9-f8d00defa06f",
   "metadata": {
    "tags": [],
    "vscode": {
     "languageId": "r"
    }
   },
   "outputs": [],
   "source": [
    "lrtest(original, reduced1, full)\n",
    "#reduced1 is the best model"
   ]
  },
  {
   "cell_type": "code",
   "execution_count": null,
   "id": "be3fc9f2-e79c-43ea-856c-d50e33d9318f",
   "metadata": {
    "tags": [],
    "vscode": {
     "languageId": "r"
    }
   },
   "outputs": [],
   "source": [
    "if(!requireNamespace(\"kimisc\")) {\n",
    "  install.packages(\"kimisc\")\n",
    "}\n",
    "if(!requireNamespace(\"AICcmodavg\")) {\n",
    "  install.packages(\"AICcmodavg\")\n",
    "}\n",
    "library(AICcmodavg)\n",
    "library(kimisc)"
   ]
  },
  {
   "cell_type": "code",
   "execution_count": null,
   "id": "00b05cc8-c424-4aec-94c2-fad3b3532aef",
   "metadata": {
    "tags": [],
    "vscode": {
     "languageId": "r"
    }
   },
   "outputs": [],
   "source": [
    "model.set <- list(original, reduced1)\n",
    "model.names <- c(\"original\",\"reduced1\")\n",
    "\n",
    "aictab(model.set, test='LRT', modnames = model.names)"
   ]
  },
  {
   "cell_type": "code",
   "execution_count": null,
   "id": "3dda4d03-a8c5-484c-b97e-be3f9fa96fb8",
   "metadata": {
    "tags": [],
    "vscode": {
     "languageId": "r"
    }
   },
   "outputs": [],
   "source": [
    "Unadjusted <- original\n",
    "Adjusted <- reduced1"
   ]
  },
  {
   "cell_type": "code",
   "execution_count": null,
   "id": "c32b63f0-f51a-4b6c-a9e2-90f1a6d2af4c",
   "metadata": {
    "tags": [],
    "vscode": {
     "languageId": "r"
    }
   },
   "outputs": [],
   "source": [
    "# if(!requireNamespace(\"kimisc\")) {\n",
    "#   install.packages(\"kimisc\")\n",
    "# }\n",
    "# if(!requireNamespace(\"AICcmodavg\")) {\n",
    "#   install.packages(\"AICcmodavg\")\n",
    "# }\n",
    "\n",
    "require(survival)\n",
    "require(kimisc) # has the nlist function to create a named list\n",
    "require(AICcmodavg) # has the aictab function\n",
    "require(dplyr)\n",
    "require(ggplot2)\n",
    "require(reshape2)\n",
    "\n",
    "\n",
    "\n",
    "# Put the models all together in a named list using nlist function from kimisc package\n",
    "model_list <- nlist(Unadjusted, Adjusted)\n",
    "\n",
    "# Compare models with AIC table\n",
    "aic_table <- aictab(model_list, second.ord=FALSE)\n",
    "\n",
    "aic_table_small = subset(aic_table, select = -c(K,ModelLik,LL,Cum.Wt,AICWt) )\n",
    "\n",
    "\n",
    "# Add a column to the table with variable names\n",
    "model_vars <- sapply(model_list, function(x) gsub(\":\", \"*\", paste(names(x$means), collapse = \" + \")))\n",
    "aic_table_small2 <- cbind(Modnames = names(model_vars)) %>%\n",
    "  merge(aic_table_small, by=\"Modnames\") %>%\n",
    "  arrange(AIC)\n",
    "\n",
    "# Add a column to the table with variable names\n",
    "model_vars <- sapply(model_list, function(x) gsub(\":\", \"*\", paste(names(x$means), collapse = \" + \")))\n",
    "aic_table_full2 <- cbind(Modnames = names(model_vars), model_vars) %>%\n",
    "  merge(aic_table, by=\"Modnames\") %>%\n",
    "  arrange(AIC)"
   ]
  },
  {
   "cell_type": "code",
   "execution_count": null,
   "id": "0bf33b3c-d7ec-4c36-ac0c-9e8f9f7ed5ef",
   "metadata": {
    "tags": [],
    "vscode": {
     "languageId": "r"
    }
   },
   "outputs": [],
   "source": [
    "aic_table\n",
    "aic_table_full2\n",
    "aic_table_small\n",
    "aic_table_small2"
   ]
  },
  {
   "cell_type": "code",
   "execution_count": null,
   "id": "80b5596a-5dcf-43c1-b2c8-b00937b6a1ab",
   "metadata": {
    "tags": [],
    "vscode": {
     "languageId": "r"
    }
   },
   "outputs": [],
   "source": [
    "library(xtable)"
   ]
  },
  {
   "cell_type": "code",
   "execution_count": null,
   "id": "ec7478ab-598f-47e7-9920-a5b4fd08e0bf",
   "metadata": {
    "tags": [],
    "vscode": {
     "languageId": "r"
    }
   },
   "outputs": [],
   "source": [
    "print(xtable(aic_table_small2, type = \"latex\", tabular.environment=\"longtable\"), file = file.path(results_dir, \"aic_table_small.tex\"))\n",
    "\n",
    "write.csv(aic_table_small2, file = file.path(results_dir, 'aic_table_small.csv'))"
   ]
  },
  {
   "cell_type": "code",
   "execution_count": null,
   "id": "5eab63d0-03db-4cab-a92f-698a68bdf334",
   "metadata": {
    "tags": [],
    "vscode": {
     "languageId": "r"
    }
   },
   "outputs": [],
   "source": [
    "print(xtable(aic_table_full2, type = \"latex\", tabular.environment=\"longtable\"), file = file.path(results_dir, \"aic_table_full.tex\"))\n",
    "\n",
    "write.csv(aic_table_full2, file = file.path(results_dir, 'aic_table_full.csv'))"
   ]
  },
  {
   "cell_type": "code",
   "execution_count": null,
   "id": "6b02915d-ff66-4ffc-9107-df8428505150",
   "metadata": {
    "vscode": {
     "languageId": "r"
    }
   },
   "outputs": [],
   "source": []
  },
  {
   "cell_type": "markdown",
   "id": "a26774dd-17df-4deb-bc45-269827dfdcff",
   "metadata": {},
   "source": [
    "### emmeans work"
   ]
  },
  {
   "cell_type": "code",
   "execution_count": null,
   "id": "d56a1322-2d6a-493d-a355-34f08a8d440b",
   "metadata": {
    "tags": [],
    "vscode": {
     "languageId": "r"
    }
   },
   "outputs": [],
   "source": [
    "# varaibles need to be redefined to be computer friendly\n",
    "# human friendly states do not play well with post processing\n",
    "df_surv_temp <- \n",
    "  df_surv2 |>\n",
    "  dplyr::mutate(\n",
    "    preeclampsia_eclampsia = \n",
    "      dplyr::if_else(\n",
    "        preeclampsia_eclampsia_pretty == 'Preeclampsia/Eclampsia', \n",
    "        'yes', \n",
    "        'no'\n",
    "      ),\n",
    "    race = as.character(race),\n",
    "    race = dplyr::if_else(race == 'Other Race', 'Other', race),\n",
    "    race = forcats::fct_infreq(race)\n",
    "  )"
   ]
  },
  {
   "cell_type": "code",
   "execution_count": null,
   "id": "1ded424d-6edf-4698-a6ca-5734939c1bd4",
   "metadata": {
    "tags": [],
    "vscode": {
     "languageId": "r"
    }
   },
   "outputs": [],
   "source": [
    "#reduced1 removes     preeclampsia_eclampsia_pretty*AgeGroup due to convergence issues\n",
    "emmeansmodel <- \n",
    "  survival::coxph(\n",
    "    survival::Surv(time_hf, event_hf) ~ \n",
    "\n",
    "    preeclampsia_eclampsia + \n",
    "    race + \n",
    "    ethnicity + \n",
    "    AgeGroup + \n",
    "    chronic_diabetes_conditions +   \n",
    "    gest_diabetes_conditions + \n",
    "    CountHBP +\n",
    "    prexist_cardiac_exclusion +\n",
    "    bmiabove40_conditions + \n",
    "    sud_conditions + \n",
    "    disabled2 + \n",
    "    oci +\n",
    "    preeclampsia_eclampsia*race + \n",
    "    sud_conditions*race + \n",
    "    disabled2*race + \n",
    "    preeclampsia_eclampsia*sud_conditions + \n",
    "    preeclampsia_eclampsia*disabled2\n",
    "\n",
    "      ,\n",
    "    data = df_surv_temp\n",
    "  )\n",
    "#summary(reduced1)\n",
    "\n",
    "#come back and reorder the interactions for interpretation purposes"
   ]
  },
  {
   "cell_type": "code",
   "execution_count": null,
   "id": "1f372679-fdce-418c-9594-a14dad957dc3",
   "metadata": {
    "tags": [],
    "vscode": {
     "languageId": "r"
    }
   },
   "outputs": [],
   "source": [
    "non_nuisance <- c(\"preeclampsia_eclampsia\", \"race\", \"sud_conditions\", \"disabled2\")\n",
    "\n",
    "rg <- emmeans::ref_grid(emmeansmodel, non.nuisance = non_nuisance)\n",
    "\n",
    "emms <- emmeans::emmeans(object = rg, specs = non_nuisance)\n",
    "\n",
    "prs <- pairs(emms, reverse = FALSE)\n",
    "prs_rev <- pairs(emms, reverse = TRUE)\n",
    "# sometimes you want reverse = TRUE\n",
    "# if you can't find the comparison you want in coming out of comparisons, change reverse to TRUE\n",
    "\n",
    "comparisons <- confint(prs, type = 'response')\n",
    "comparisons_rev <- confint(prs_rev, type = 'response')\n",
    "\n",
    "# which comparisons do you want to interact with? there are 120\n",
    "numer <- paste0('num_', non_nuisance)\n",
    "denom <- paste0('denom_', non_nuisance)\n",
    "\n",
    "make_readable <- function(comparisons, numerators, denominators) {\n",
    "  readable <-\n",
    "    comparisons |>\n",
    "    tibble::as_tibble() |>\n",
    "    tidyr::separate(contrast, into = c('num', 'denom'), sep = ' / ') |>\n",
    "    tidyr::separate(num, into = numer, sep = ' ') |>\n",
    "    tidyr::separate(denom, into = denom, sep = ' ') |>\n",
    "    dplyr::rename(\n",
    "      lower_ci = asymp.LCL,\n",
    "      upper_ci = asymp.UCL\n",
    "    )\n",
    "  \n",
    "  readable\n",
    "}\n",
    "\n",
    "comp_read <- make_readable(comparisons, numer, denom)\n",
    "comp_rev_read <- make_readable(comparisons_rev, numer, denom)\n",
    "\n",
    "compare <- dplyr::bind_rows(comp_read, comp_rev_read)"
   ]
  },
  {
   "cell_type": "code",
   "execution_count": null,
   "id": "faeb28b7-7c26-493b-84e3-1863816fb412",
   "metadata": {
    "tags": [],
    "vscode": {
     "languageId": "r"
    }
   },
   "outputs": [],
   "source": [
    "# black + pre + nosud + nodisabled / black + nopre + nosud + nodisabled\n",
    "# black + pre + nosud + disabled   / black + nopre + nosud + disabled\n",
    "# black + pre + sud +   nodisabled / black + nopre + sud +   nodisabled\n",
    "# black + pre + sud +   disabled   / black + nopre + sud +   disabled\n",
    "\n",
    "black_blacknopre <- \n",
    "  compare |>\n",
    "  dplyr::filter(\n",
    "    num_race == 'Black',\n",
    "    denom_race == 'Black',\n",
    "    num_preeclampsia_eclampsia == 'yes',\n",
    "    denom_preeclampsia_eclampsia == 'no',\n",
    "    num_sud_conditions == denom_sud_conditions,\n",
    "    num_disabled2 == denom_disabled2\n",
    "  )\n",
    "\n",
    "\n",
    "\n",
    "# black + pre + nosud + nodisabled / white + pre + nosud + nodisabled\n",
    "# black + pre + nosud + disabled   / white + pre + nosud + disabled\n",
    "# black + pre + sud +   nodisabled / white + pre + sud +   nodisabled\n",
    "# black + pre + sud +   disabled   / white + pre + sud +   disabled\n",
    "\n",
    "black_whitepre <- \n",
    "  compare |>\n",
    "  dplyr::filter(\n",
    "    num_race == 'Black',\n",
    "    denom_race == 'White',    \n",
    "    num_preeclampsia_eclampsia == 'yes',\n",
    "    denom_preeclampsia_eclampsia == 'yes',\n",
    "    num_sud_conditions == denom_sud_conditions,\n",
    "    num_disabled2 == denom_disabled2\n",
    "  )\n",
    "\n",
    "\n",
    "\n",
    "# black + pre + nosud + nodisabled / white + nopre + nosud + nodisabled\n",
    "# black + pre + nosud + disabled   / white + nopre + nosud + disabled\n",
    "# black + pre + sud +   nodisabled / white + nopre + sud +   nodisabled\n",
    "# black + pre + sud +   disabled   / white + nopre + sud +   disabled\n",
    "\n",
    "black_whitenopre <- \n",
    "  compare |>\n",
    "  dplyr::filter(\n",
    "    num_race == 'Black',\n",
    "    denom_race == 'White',    \n",
    "    num_preeclampsia_eclampsia == 'yes',\n",
    "    denom_preeclampsia_eclampsia == 'no',\n",
    "    num_sud_conditions == denom_sud_conditions,\n",
    "    num_disabled2 == denom_disabled2\n",
    "  )\n",
    "\n",
    "\n",
    "\n",
    "# black + nopre + nosud + nodisabled / white + nopre + nosud + nodisabled\n",
    "# black + nopre + nosud + disabled   / white + nopre + nosud + disabled\n",
    "# black + nopre + sud +   nodisabled / white + nopre + sud +   nodisabled\n",
    "# black + nopre + sud +   disabled   / white + nopre + sud +   disabled\n",
    "\n",
    "blacknopre_whitenopre <- \n",
    "  compare |>\n",
    "  dplyr::filter(\n",
    "    num_race == 'Black',\n",
    "    denom_race == 'White',    \n",
    "    num_preeclampsia_eclampsia == 'no',\n",
    "    denom_preeclampsia_eclampsia == 'no',\n",
    "    num_sud_conditions == denom_sud_conditions,\n",
    "    num_disabled2 == denom_disabled2\n",
    "  )\n",
    "\n",
    "\n",
    "\n",
    "# white + pre + nosud + nodisabled / white + nopre + nosud + nodisabled\n",
    "# white + pre + nosud + disabled   / white + nopre + nosud + disabled\n",
    "# white + pre + sud +   nodisabled / white + nopre + sud +   nodisabled\n",
    "# white + pre + sud +   disabled   / white + nopre + sud +   disabled\n",
    "\n",
    "white_whitenopre <- \n",
    "  compare |>\n",
    "  dplyr::filter(\n",
    "    num_race == 'White',\n",
    "    denom_race == 'White',    \n",
    "    num_preeclampsia_eclampsia == 'yes',\n",
    "    denom_preeclampsia_eclampsia == 'no',\n",
    "    num_sud_conditions == denom_sud_conditions,\n",
    "    num_disabled2 == denom_disabled2\n",
    "  )\n",
    "\n",
    "\n",
    "compare_focus <- \n",
    "  dplyr::bind_rows(\n",
    "    black_blacknopre,\n",
    "    black_whitepre,\n",
    "    black_whitenopre,\n",
    "    blacknopre_whitenopre,\n",
    "    white_whitenopre\n",
    "  ) |>\n",
    "  dplyr::mutate(\n",
    "    dplyr::across(c(num_preeclampsia_eclampsia, denom_preeclampsia_eclampsia), ~ dplyr::if_else(.x == 'yes', 'Yes', 'No'))\n",
    "  ) |>\n",
    "  dplyr::rename(hazard_ratio = ratio) |>\n",
    "  dplyr::select(-SE, -df)\n",
    "\n",
    "write.csv(compare_focus, file = file.path(results_dir, 'hazard_ratio_comparisons.csv'))"
   ]
  },
  {
   "cell_type": "code",
   "execution_count": null,
   "id": "1ce78ba7-b1f0-4e17-a3e9-fab1233667f0",
   "metadata": {
    "tags": [],
    "vscode": {
     "languageId": "r"
    }
   },
   "outputs": [],
   "source": [
    "library(gt)"
   ]
  },
  {
   "cell_type": "code",
   "execution_count": null,
   "id": "6e0cd85e-b468-44d1-b25d-1d8723d85703",
   "metadata": {
    "tags": [],
    "vscode": {
     "languageId": "r"
    }
   },
   "outputs": [],
   "source": [
    "caption <- \n",
    "  paste0(\n",
    "    'Hazard ratios associated comparisons between different combinations of preclampsia/eclampsia status (Yes/No), substance use disorder (Yes/No), physical disability (Yes/No) and their interaction with race (White/Black). The state of each of these variables is shown in the [N]umerator and [D]enominator columns beneath each variable name. Hazard ratio is provided with 95% confidence intervals.'\n",
    "  )\n",
    "\n",
    "compare_focus_gt <- \n",
    "  compare_focus |>\n",
    "  arrange(desc(hazard_ratio)) |>\n",
    "  gt::gt() |>\n",
    "  fmt_number(\n",
    "    columns = c(hazard_ratio, lower_ci, upper_ci)\n",
    "  ) |>\n",
    "  cols_merge(\n",
    "    columns = c(\"lower_ci\", \"upper_ci\"),\n",
    "    pattern = \"[{1}, {2}]\"\n",
    "  ) |>\n",
    "  cols_label(\n",
    "    num_preeclampsia_eclampsia = 'N',\n",
    "    denom_preeclampsia_eclampsia = 'D',\n",
    "    num_race = 'N',\n",
    "    denom_race = 'D',\n",
    "    num_sud_conditions = 'N',\n",
    "    denom_sud_conditions = 'D',\n",
    "    num_disabled2 = 'N',\n",
    "    denom_disabled2 = 'D',\n",
    "    hazard_ratio = 'Hazard Ratio',\n",
    "    lower_ci = '[95%]'\n",
    "  ) |>\n",
    "  tab_spanner(\n",
    "    label = \"Preeclampsia/Eclampsia\",\n",
    "    columns = c(\"num_preeclampsia_eclampsia\", \"denom_preeclampsia_eclampsia\")\n",
    "  ) |>\n",
    "  tab_spanner(\n",
    "    label = \"Race\",\n",
    "    columns = c(\"num_race\", \"denom_race\")\n",
    "  ) |>\n",
    "  tab_spanner(\n",
    "    label = \"Substance Use Disorder\",\n",
    "    columns = c(\"num_sud_conditions\", \"denom_sud_conditions\")\n",
    "  ) |>\n",
    "  tab_spanner(\n",
    "    label = \"Disabilities\",\n",
    "    columns = c(\"num_disabled2\", \"denom_disabled2\")\n",
    "  )\n",
    "\n",
    "\n",
    "gtsave(compare_focus_gt, \"hazard_ratio_table.html\", path = results_dir)\n",
    "gtsave(compare_focus_gt, \"hazard_ratio_table.tex\", path = results_dir)"
   ]
  },
  {
   "cell_type": "code",
   "execution_count": null,
   "id": "971185d6-62ac-4495-bfa4-931cdf7afcaf",
   "metadata": {
    "tags": [],
    "vscode": {
     "languageId": "r"
    }
   },
   "outputs": [],
   "source": [
    "hr_matrix <- \n",
    "  compare |>\n",
    "  dplyr::filter(\n",
    "    num_race %in% c('Black', 'White'),\n",
    "    denom_race %in% c('Black', 'White')\n",
    "  ) |>\n",
    "  dplyr::mutate(\n",
    "    numerator = paste(num_preeclampsia_eclampsia, num_race, num_sud_conditions, num_disabled2),\n",
    "    denominator = paste(denom_preeclampsia_eclampsia, denom_race, denom_sud_conditions, denom_disabled2),\n",
    "    across(c(numerator, denominator), ~ stringr::str_to_title(.x)),\n",
    "    across(c(numerator, denominator), ~ stringr::str_replace_all(.x, pattern = '[a-z]', replacement = '')),\n",
    "    across(c(numerator, denominator), ~ stringr::str_replace_all(.x, pattern = ' ', replacement = ''))    \n",
    "  ) |>\n",
    "  dplyr::select(\n",
    "    numerator, denominator, ratio#, lower_ci, upper_ci\n",
    "  ) |>\n",
    "  dplyr::arrange(desc(ratio)) |>\n",
    "  tidyr::pivot_wider(\n",
    "    names_from = denominator,\n",
    "    values_from = ratio\n",
    "  ) |> \n",
    "  rev() |>\n",
    "  dplyr::relocate(numerator, .before = everything()) |>\n",
    "  dplyr::mutate(dplyr::across(-numerator, ~ round(.x, 2))) |>\n",
    "  dplyr::rename(`N/D` = numerator)\n",
    "\n",
    "hr_matrix <- as.matrix(hr_matrix)\n",
    "diag(hr_matrix[, -1]) <- 1\n",
    "\n",
    "hr_matrix <- tibble::as_tibble(hr_matrix)\n",
    "\n",
    "hr_matrix\n",
    "\n",
    "caption <- \n",
    "  paste0('Matrix of hazard ratios comparing between patients by preeclampsia/eclampsia ([Y]es/[N]o), race ([B]lack/[W]hite),',\n",
    "         ' substance use disorder ([Y]es/[N]o), and disability ([Y]es/[N]o). ',\n",
    "         'Row names represent the numerator (N) of the hazard ratio, and columns names the denominator (D). ')\n",
    "\n",
    "readr::write_csv(hr_matrix, file = file.path(results_dir, 'hazard_ratios_matrix.csv'))\n",
    "write_as_xtable(hr_matrix, filepath = file.path(results_dir, 'hazard_ratios_matrix.tex'), caption = caption)"
   ]
  },
  {
   "cell_type": "code",
   "execution_count": null,
   "id": "d9bc6e2b-6d6f-488b-b112-2c96fe354ec0",
   "metadata": {
    "tags": [],
    "vscode": {
     "languageId": "r"
    }
   },
   "outputs": [],
   "source": [
    "library(gtsummary)\n",
    "library(gt)"
   ]
  },
  {
   "cell_type": "markdown",
   "id": "96c5b52c-6a8b-43c2-9bd4-4fdab6947349",
   "metadata": {},
   "source": [
    "# Supplemental Table 2"
   ]
  },
  {
   "cell_type": "code",
   "execution_count": null,
   "id": "f265db37-88c6-4f3d-8323-03104f63d39a",
   "metadata": {
    "tags": [],
    "vscode": {
     "languageId": "r"
    }
   },
   "outputs": [],
   "source": [
    "# clean interpretations of exp(coef) not possible with interaction terms\n",
    "# also creates complciations about *what* is included in the hazard ratio\n",
    "# exp(coef) = HR works because the HR is comparing risk where x = 1 / risk where x = 0\n",
    "# for interactions, you sum the coefs assocaited with your comparison and then exp that\n",
    "# this is complicated when you're trying to make specific population comparisons\n",
    "# in general, a big table of regression coefficients from a model with interactions with be hard to quickly read\n",
    "multitab <-  \n",
    "  tbl_regression(\n",
    "    reduced1, \n",
    "    exponentiate = TRUE,\n",
    "    list(\n",
    "      preeclampsia_eclampsia_pretty ~ \"Preeclampsia/Eclampsia\", \n",
    "      race ~ \"Race\", \n",
    "      ethnicity ~ \"Ethnicity\", \n",
    "      AgeGroup ~ \"Age Group\", \n",
    "      chronic_diabetes_conditions ~ \"Pregestational Diabetes (Type 1 and Type 2)\", \n",
    "        CountHBP ~ \"Pregestational Hypertension\",\n",
    "      bmiabove40_conditions ~ \"BMI U+2265 40\", \n",
    "      disabled2 ~ \"Disability\", oci ~ \"Obstetric Comorbidity Index Score\",\n",
    "gest_diabetes_conditions ~ 'Gestational Diabetes',\n",
    "prexist_cardiac_exclusion ~ 'Other Preexisting Cardiac Conditions',\n",
    "sud_conditions~'Substance Use Disorder'\n",
    ")\n",
    "      \n",
    "      \n",
    "  ) |>\n",
    "  as_gt() |>\n",
    "  gt::tab_header(title = gt::md(\"**Regression coefficients from a Cox proportional hazards model describing time till heart failure.**\"))"
   ]
  },
  {
   "cell_type": "code",
   "execution_count": null,
   "id": "65a3c0f8-0785-4c9a-b7dd-625a1899d04a",
   "metadata": {
    "tags": [],
    "vscode": {
     "languageId": "r"
    }
   },
   "outputs": [],
   "source": [
    "gtsave(multitab, \"supptab_2.html\", path = results_dir)\n",
    "gtsave(multitab, \"supptab_2.tex\", path = results_dir)"
   ]
  },
  {
   "cell_type": "code",
   "execution_count": null,
   "id": "af4dc51e-0ff4-4f6e-bf8e-50054e6a4c1d",
   "metadata": {
    "tags": [],
    "vscode": {
     "languageId": "r"
    }
   },
   "outputs": [],
   "source": [
    "# clean interpretations of exp(coef) not possible with interaction terms\n",
    "# also creates complciations about *what* is included in the hazard ratio\n",
    "# exp(coef) = HR works because the HR is comparing risk where x = 1 / risk where x = 0\n",
    "# for interactions, you sum the coefs assocaited with your comparison and then exp that\n",
    "# this is complicated when you're trying to make specific population comparisons\n",
    "# in general, a big table of regression coefficients from a model with interactions with be hard to quickly read\n",
    "multitab2 <-  \n",
    "  tbl_regression(\n",
    "    reduced1, \n",
    "    exponentiate = FALSE, estimate_fun = purrr::partial(style_ratio, digits = 2),\n",
    "    list(\n",
    "      preeclampsia_eclampsia_pretty ~ \"Preeclampsia/Eclampsia\", \n",
    "      race ~ \"Race\", \n",
    "      ethnicity ~ \"Ethnicity\", \n",
    "      AgeGroup ~ \"Age Group\", \n",
    "      chronic_diabetes_conditions ~ \"Pregestational Diabetes (Type 1 and Type 2)\", \n",
    "        CountHBP ~ \"Pregestational Hypertension\",\n",
    "      bmiabove40_conditions ~ \"BMI U+2265 40\", \n",
    "      disabled2 ~ \"Disability\", oci ~ \"Obstetric Comorbidity Index Score\",\n",
    "gest_diabetes_conditions ~ 'Gestational Diabetes',\n",
    "prexist_cardiac_exclusion ~ 'Other Preexisting Cardiac Conditions',\n",
    "sud_conditions~'Substance Use Disorder'\n",
    ")\n",
    "      \n",
    "      \n",
    "  ) |>\n",
    "  as_gt() |>\n",
    "  gt::tab_header(title = gt::md(\"**Regression coefficients from a Cox proportional hazards model describing time till heart failure.**\"))"
   ]
  },
  {
   "cell_type": "code",
   "execution_count": null,
   "id": "611e06a7-d968-4e37-bcbe-1298894ae484",
   "metadata": {
    "tags": [],
    "vscode": {
     "languageId": "r"
    }
   },
   "outputs": [],
   "source": [
    "gtsave(multitab2, \"supptab_3.html\", path = results_dir)\n",
    "gtsave(multitab2, \"supptab_3.tex\", path = results_dir)"
   ]
  },
  {
   "cell_type": "markdown",
   "id": "878df9d5-e291-481b-b96e-f120fe403eef",
   "metadata": {
    "tags": []
   },
   "source": [
    "# print the r packages that were used here"
   ]
  },
  {
   "cell_type": "code",
   "execution_count": null,
   "id": "c5ad5949-e3ec-4474-be73-7d357b9af24b",
   "metadata": {
    "tags": [],
    "vscode": {
     "languageId": "r"
    }
   },
   "outputs": [],
   "source": [
    "(.packages())"
   ]
  },
  {
   "cell_type": "code",
   "execution_count": null,
   "id": "c343f68b-cd72-43bc-80f3-c79b0de3e4d3",
   "metadata": {
    "tags": [],
    "vscode": {
     "languageId": "r"
    }
   },
   "outputs": [],
   "source": [
    "knitr::write_bib(file = file.path(results_dir, 'core_r.bib'))"
   ]
  },
  {
   "cell_type": "code",
   "execution_count": null,
   "id": "21791c66-f4f1-4fbd-b17e-23b828aa8514",
   "metadata": {
    "tags": [],
    "vscode": {
     "languageId": "r"
    }
   },
   "outputs": [],
   "source": [
    "packs <- \n",
    "  c(\n",
    "    \"arrow\",\n",
    "    \"dplyr\",\n",
    "    \"ggplot2\",\n",
    "    \"janitor\",\n",
    "    \"broom\",\n",
    "    \"emmeans\",\n",
    "    \"scales\",\n",
    "    \"survminer\",\n",
    "    \"survival\",\n",
    "    \"ggfortify\",\n",
    "    \"gtools\",\n",
    "    \"MASS\",\n",
    "    \"xtable\",\n",
    "    \"bit64\",\n",
    "    \"table1\",\n",
    "    \"patchwork\",\n",
    "    \"DiagrammeR\",\n",
    "    \"DiagrammeRsvg\",\n",
    "    \"magrittr\",\n",
    "    \"gt\",\n",
    "    \"labelled\",\n",
    "    \"table1\",\n",
    "    \"ggpubr\",\n",
    "    \"stats\",\n",
    "    \"grDevices\"\n",
    "  )\n",
    "\n",
    "# knitr::write_bib to export bib file with all the references. saves you copy-pasting\n",
    "knitr::write_bib(packs, file = file.path(results_dir, 'packages.bib'))"
   ]
  },
  {
   "cell_type": "markdown",
   "id": "261e2cf1-33ef-4716-b908-9a9276cac47d",
   "metadata": {
    "tags": []
   },
   "source": [
    "# Study Flowchart / MUST BE RUN IN DESKTOP VERSION OF R OR RSTUDIO. WILL NOT RUN HERE!"
   ]
  },
  {
   "cell_type": "code",
   "execution_count": null,
   "id": "0d607057-c3eb-42ac-aaf6-e79e768cb8db",
   "metadata": {
    "tags": [],
    "vscode": {
     "languageId": "r"
    }
   },
   "outputs": [],
   "source": [
    "rsvg <- \"https://cran.r-project.org/src/contrib/Archive/rsvg/rsvg_2.2.0.tar.gz\"\n",
    "install.packages(rsvg, repos=NULL, type=\"source\")"
   ]
  },
  {
   "cell_type": "code",
   "execution_count": null,
   "id": "2b7489f7-e20c-4fab-941d-edf79de3e8c0",
   "metadata": {
    "tags": [],
    "vscode": {
     "languageId": "r"
    }
   },
   "outputs": [],
   "source": [
    "install.packages(c(\"DiagrammeR\",\"DiagrammeRsvg\",\"magrittr\",\"librsvg\"))\n",
    "library(DiagrammeR)\n",
    "library(DiagrammeRsvg)\n",
    "library(magrittr)\n",
    "library(librsvg)\n",
    "library(rsvg)"
   ]
  },
  {
   "cell_type": "code",
   "execution_count": null,
   "id": "5f6deee0-1924-4b91-b545-f4b16565de05",
   "metadata": {
    "tags": [],
    "vscode": {
     "languageId": "r"
    }
   },
   "outputs": [],
   "source": [
    "flowy1 <- grViz(\"digraph flowchart {\n",
    "      # node definitions with substituted label text\n",
    "      node [fontname = Helvetica, shape = rectangle]        \n",
    "      tab1 [label = '@@1']\n",
    "      tab2 [label = '@@2']\n",
    "      tab3 [label = '@@3']\n",
    "      tab4 [label = '@@4']\n",
    "      tab5 [label = '@@5']\n",
    "        tab6 [label = '@@6']\n",
    "tab7 [label = '@@7']\n",
    "tab8 [label = '@@8']\n",
    "#the boxes to the side (exclude level) - I need just one (excluded) off of box 2\n",
    "    node [fontname = Helvetica, shape = rectangle]\n",
    "      m1 [label = 'Did not meet study criteria n=678,792']\n",
    "\n",
    "\n",
    "#draw arrows to the different boxes for the first groups before final groupings\n",
    "# creating horizontal lines\n",
    "      node [shape=none, width=0, height=0, label='']\n",
    "\n",
    "      {rank=same; tab2 -> m1}\n",
    "     \n",
    "      # edge definitions with the node IDs\n",
    "      tab1 -> tab2;\n",
    "      tab2 -> tab3 -> {tab7 tab8}\n",
    "      tab2 -> tab4 -> {tab5 tab6};\n",
    "            }\n",
    "\n",
    "      [1]: 'Patients with a delivery at or after January 1, 2018\\\\n n=1,376,218'\n",
    "      [2]: 'Patients eligible for the study\\\\n n=697,426'\n",
    "      [3]: 'Eligible patients with pre-eclampsia or eclampsia\\\\n n=41,982'\n",
    "      [4]: 'Eligible patients without pre-eclampsia or eclampsia\\\\n n=655,444'\n",
    "      [5]: 'Patients with any heart failure\\\\n n=1478'\n",
    "      [6]: 'Patients without any heart failure\\\\n n=653,966'\n",
    "      [7]: 'Patients with any heart failure\\\\n n=399'\n",
    "      [8]: 'Patients without any heart failure\\\\n n=41,583'\n",
    "      \")"
   ]
  },
  {
   "cell_type": "code",
   "execution_count": null,
   "id": "907b28d7-f04c-4aad-9d50-1fec5f977177",
   "metadata": {
    "tags": [],
    "vscode": {
     "languageId": "r"
    }
   },
   "outputs": [],
   "source": [
    "flowy1"
   ]
  },
  {
   "cell_type": "code",
   "execution_count": null,
   "id": "5788db08-a6a8-48d7-9128-17d41e79ba3e",
   "metadata": {
    "tags": [],
    "vscode": {
     "languageId": "r"
    }
   },
   "outputs": [],
   "source": [
    "#mypath <- file.path(\"C:\",\"R\",\"SAVEHERE\",paste(\"myplot_\", names[i], \".jpg\", sep = \"\"))\n",
    "\n",
    "results_dir <- here::here(\"results\")"
   ]
  },
  {
   "cell_type": "code",
   "execution_count": null,
   "id": "925a0db3-bb95-480b-a1c3-d6262d576b68",
   "metadata": {
    "tags": [],
    "vscode": {
     "languageId": "r"
    }
   },
   "outputs": [],
   "source": [
    "images_dir <- file.path(results_dir, \"images\")\n",
    "dir.create(images_dir, recursive = TRUE, showWarnings = FALSE)"
   ]
  },
  {
   "cell_type": "code",
   "execution_count": null,
   "id": "ddf46cf9-e69b-4151-9a9e-83c4222c0fc5",
   "metadata": {
    "tags": [],
    "vscode": {
     "languageId": "r"
    }
   },
   "outputs": [],
   "source": [
    "library(V8)"
   ]
  },
  {
   "cell_type": "code",
   "execution_count": null,
   "id": "e730f261-04d1-4ed1-b726-1d8d31470972",
   "metadata": {
    "tags": [],
    "vscode": {
     "languageId": "r"
    }
   },
   "outputs": [],
   "source": [
    "rsvg <- \"https://cran.r-project.org/src/contrib/Archive/rsvg/rsvg_2.2.0.tar.gz\"\n",
    "\n",
    "install.packages(rsvg, repos=NULL, type=\"source\")\n",
    "install.packages(c(\"DiagrammeR\",\"DiagrammeRsvg\",\"magrittr\",\"xml2\"))\n",
    "\n",
    "library(DiagrammeR)\n",
    "library(DiagrammeRsvg)\n",
    "library(magrittr)\n",
    "library(rsvg)\n",
    "library(xml2)\n",
    "\n",
    "\n",
    "# flowchart ---------------------------------------------------------------\n",
    "\n",
    "\n",
    "#call the object whatever. i used flowy1\n",
    "par(family = \"roman\")\n",
    "flowy1 <- DiagrammeR::grViz(\"digraph flowchart {\n",
    "\n",
    "#Give the study chart a title\n",
    "\n",
    "#Where should the title go?\n",
    "labelloc = b\n",
    "#What font size should the title have?\n",
    "fontsize = 14\n",
    "#What font should the title be?\n",
    "fontname = 'roman'\n",
    "\n",
    "\n",
    "\n",
    "#what default font and shape do i want the nodes to be?\n",
    "node [fontname = 'roman', shape = rectangle, fontsize = 12]\n",
    "\n",
    "\n",
    "\n",
    "# node definitions with substituted label text. without labels,\n",
    "#the node would just be whatever you list (ex: total).\n",
    "#call the nodes what you want. \n",
    "#here they are named based on what they represent to make\n",
    "#ordering them easier. \n",
    "\n",
    "\n",
    "#these go downward in the flowchart\n",
    "\n",
    "\n",
    "#The first node is called 'total'. The label statement allows HTML use.\n",
    "#I used it here to make the top line bold in the nodes. I then refer to \n",
    "#a shortcut I made below to more easily find and edit the numbers '@@1'\n",
    "\n",
    "\n",
    "total      [label = <\n",
    "Total patients assessed for study eligibility<br/>\n",
    "@@1\n",
    ">, width='5']\n",
    "       \n",
    "       \n",
    "#Even though the boxes are by default resized for text, the use of HTML here \n",
    "#causes some issues so I resized each box accordingly using the width statement\n",
    "\n",
    "included   [label = <\n",
    "Individual patients included in the study<br/>\n",
    "@@2\n",
    ">, width='4']\n",
    "\n",
    "\n",
    "\n",
    "pree       [label = <\n",
    "Preeclampsia or eclampsia<br/>\n",
    "@@3\n",
    ">, width='3']\n",
    "\n",
    "\n",
    "\n",
    "prehf      [label = <\n",
    "Heart failure<br/>\n",
    "@@4\n",
    ">, width='1.5']\n",
    "\n",
    "\n",
    "\n",
    "prenohf    [label = <\n",
    "No heart failure<br/>\n",
    "@@5\n",
    ">, width='1.5']\n",
    "       \n",
    "       \n",
    "       \n",
    "       \n",
    "no   [label = <\n",
    "No preeclampsia or eclampsia<br/>\n",
    "@@6\n",
    ">, width='3']\n",
    "\n",
    "\n",
    "\n",
    "\n",
    "hfnopree   [label =  <\n",
    "Heart failure<br/>\n",
    "@@7\n",
    ">, width='1.5']\n",
    "\n",
    "\n",
    "\n",
    "\n",
    "doublenohf  [label = <\n",
    "No heart failure<br/>\n",
    "@@8\n",
    ">, width='1.5']\n",
    "\n",
    "\n",
    "\n",
    "\n",
    "#these next nodes go horizontally\n",
    "#remember you can actually call the nodes whatever you want.\n",
    "\n",
    "exclude1    [label = <\n",
    "Total patients excluded: @@9<br/><br/>\n",
    "Patients were excluded for:<br/>\n",
    "last clinical encounter on same day<br/> or before delivery indicator <br/>or unrealistic future date; <br/>\n",
    "having heart failure, cardiomyopathy,<br/> chronic kidney disease,<br/>\n",
    "myocardial infarction, pulmonary<br/> embolism, or other cardiac<br/>\n",
    "conditions within 365 days prior to <br/>delivery indicator;<br/>\n",
    "having congenital heart disease;<br/>\n",
    "missing or unknown race;<br/>\n",
    "missing or unknown ethnicity;<br/> or less than 16 years of age or more <br/>than 50 years of age at<br/>\n",
    "time of delivery indicator.<br/>\n",
    ">, width='3']\n",
    "\n",
    "\n",
    "\n",
    "\n",
    "\n",
    "      \n",
    "#the next ones are blank nodes used to space out the boxes/other nodes\n",
    "#while they are nodes like the others, they won't physically appear \n",
    "#because of my settings to make sure they are so small you just see a \n",
    "#continued arrow instead without these, the arrows and the boxes \n",
    "#aren't as clear\n",
    "\n",
    "      blank1 [shape=none, width=0.01, height=0.01, label='']\n",
    "      blank2 [shape=none, width=0.01, height=0.01, label='']\n",
    "      blank3 [shape=none, width=0.01, height=0.01, label='']\n",
    "      blank4 [shape=none, width=0.01, height=0.01, label='']\n",
    "\n",
    "\n",
    "\n",
    "# whereas nodes are the individual things you are connecting, edges are\n",
    "# how you connect them. here we have edge definitions with the node IDs\n",
    "\n",
    "# currently the default is normal arrows.\n",
    "# find other options: https://graphviz.org/doc/info/arrows.html\n",
    "\n",
    "\n",
    "# are there any boxes that should be on the same level or side \n",
    "# by side without an adjoining arrow? this is a cool way to get sharp lines!\n",
    "\n",
    "{rank= same; blank1 exclude1};\n",
    "{rank= same; blank2 pree};\n",
    "{rank= same; blank2 no}\n",
    "{rank= same; blank3 blank4}\n",
    "\n",
    "\n",
    "\n",
    "# how should the boxes be laid out and what should connect them?\n",
    "\n",
    "# patients assessed to a blank box. the dir = none means that the arrow has no head\n",
    "total -> blank1 [dir=none];\n",
    "\n",
    "# go from that first blank box to the exclusion criteria boxes. minlen sets the\n",
    "# minimum length of the arrow\n",
    "\n",
    "blank1 -> exclude1[minlen=2];\n",
    "\n",
    "\n",
    "\n",
    "# go from the first blank box to the box with the total included in it\n",
    "blank1 -> included[minlen=1];\n",
    "\n",
    "# go from the total included box to the second blank box\n",
    "included -> blank2[dir=none];\n",
    "\n",
    "\n",
    "# use the second blank box to draw a straight horizontal line and connect\n",
    "# that line to the two subcategories of patients. those subcategories go to\n",
    "# the sub-sub categories. dir = back makes the arrow go right to left. the\n",
    "# box that should go on the end of the arrow (with the arrowhead), should\n",
    "# go first!\n",
    "\n",
    "#subcategory\n",
    "\n",
    "pree -> blank2[dir=back, minlen=3];\n",
    "blank2 -> no[minlen=3] ;\n",
    "\n",
    "\n",
    "# sub-sub-category 1. the brackets around prehf and prenohf here put them as\n",
    "#subcategories on the same level\n",
    "\n",
    "pree -> blank3[minlen=1, dir=none];\n",
    "blank3 -> {prehf prenohf};\n",
    "\n",
    "\n",
    "# sub-sub-category 2\n",
    "\n",
    "no -> blank4[minlen=1,dir=none];\n",
    "blank4 -> {hfnopree doublenohf};\n",
    "\n",
    "\n",
    "\n",
    "   }\n",
    "\n",
    "\n",
    "# at this point i'm referencing the tabs using the shortcuts from above\n",
    "# technically i could write all of the text found in the label boxes above here, but additional\n",
    "# formatting is more complicated here.\n",
    "\n",
    "      [1]:  'n=1,021,659'\n",
    "      [2]:  'n=718,165'\n",
    "      [3]:  'n=14,204'\n",
    "      [4]:  'n=69'\n",
    "      [5]:  'n=14,135'      \n",
    "      [6]:  'n=703,961'\n",
    "      [7]:  'n=1,115'\n",
    "      [8]:  'n=702,847'\n",
    "      [9]:  'n=303,493'\n",
    "       \")\n",
    "\n",
    "#see what you created!\n",
    "flowy1\n",
    "\n",
    "\n",
    "\n",
    "\n",
    "# require(magrittr)\n",
    "# require(DiagrammeR)\n",
    "# require(DiagrammeRsvg)\n",
    "# require(xml2)\n",
    "\n",
    "\n",
    "DPI = 300\n",
    "HeightCM = 50.8\n",
    "WidthCM = 57.2431333\n",
    "flowy1 %>% export_svg() %>% charToRaw %>% rsvg(width = WidthCM * (DPI/2.54), height = HeightCM * (DPI/2.54)) %>% png::writePNG(\"flowchart.png\")\n"
   ]
  },
  {
   "cell_type": "code",
   "execution_count": null,
   "id": "97ad7921-ff4f-4b9e-8f35-104629495191",
   "metadata": {
    "vscode": {
     "languageId": "r"
    }
   },
   "outputs": [],
   "source": []
  }
 ],
 "metadata": {
  "kernelspec": {
   "display_name": "R",
   "language": "R",
   "name": "ir"
  },
  "language_info": {
   "codemirror_mode": "r",
   "file_extension": ".r",
   "mimetype": "text/x-r-source",
   "name": "R",
   "pygments_lexer": "r",
   "version": "4.1.3"
  }
 },
 "nbformat": 4,
 "nbformat_minor": 5
}
